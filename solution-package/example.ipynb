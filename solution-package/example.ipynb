{
 "cells": [
  {
   "cell_type": "markdown",
   "metadata": {},
   "source": [
    "# Magneto-Stokes Flow in a Shallow Free-Surface Annulus"
   ]
  },
  {
   "cell_type": "markdown",
   "metadata": {},
   "source": [
    "Cy S. David, Eric W. Hester, Yufan Xu, and Jonathan M. Aurnou"
   ]
  },
  {
   "cell_type": "code",
   "execution_count": null,
   "metadata": {},
   "outputs": [],
   "source": [
    "from magStokesSoln.magStokesSoln import magStokes\n",
    "import numpy as np\n",
    "import matplotlib.pyplot as plt\n",
    "import matplotlib\n",
    "%matplotlib inline\n",
    "%config InlineBackend.figure_format='retina'\n",
    "import pandas as pd"
   ]
  },
  {
   "cell_type": "markdown",
   "metadata": {},
   "source": [
    "This notebook demonstrates how to use the `magStokes` package to quickly compute theoretical predictions for magnetohydrodynamically-pumped flow in a shallow free-surface annulus."
   ]
  },
  {
   "cell_type": "markdown",
   "metadata": {},
   "source": [
    "## Theory"
   ]
  },
  {
   "cell_type": "markdown",
   "metadata": {},
   "source": [
    "Consider a layer of conducting fluid of depth $h$ in the annular gap between two cylindrical electrodes of radius $r_i$ and $r_o$ ($r_i<r_o$). A current $I$ runs through the fluid from inner to outer electrode, and the entire annulus is immersed in a vertical, imposed magnetic field $\\boldsymbol{B_0} =  -B_0 \\boldsymbol{e_z}$. Figure 1(a) shows a schematic of the annular channel with imposed magnetic field and current. Figure 1(b) shows the actual laboratory device with a spiral of blue dye that reveals the swirling flow."
   ]
  },
  {
   "cell_type": "markdown",
   "metadata": {},
   "source": [
    "![Diagram.jpg](images/Diagram.jpg)"
   ]
  },
  {
   "cell_type": "markdown",
   "metadata": {},
   "source": [
    "When the power supply is turned on, the fluid experiences an azimuthal electromagnetic force that drives circulatory flow against viscous drag.\n",
    "\n",
    "The dimensionless axisymmetric solution for spin-up from rest may be approximated as\n",
    "\n",
    "$${u}^*_\\theta(\\tilde{r},\\tilde{z},\\tilde{t}) =  \\left\\{\\sum_{n=1}^{\\infty} \\frac{2(\\chi+1)}{k_n^2 \\gamma} \\left[ \\frac{\\gamma}{k_n \\tilde{r}}-A_n I_1\\left( \\frac{k_n}{ \\gamma}\\tilde{r}\\right) - B_n K_1\\left( \\frac{k_n}{ \\gamma}\\tilde{r}\\right) \\right]\\sin (k_n  \\tilde{z}) \\right\\}\\times \\left[1- \\exp\\left(-\\frac{\\pi ^2}{4 \\textit{Re}_C}\\tilde{t}\\right)\\right]$$\n",
    "\n",
    "where  \n",
    "\n",
    "$ A_n=\\frac{\\gamma}{k_n \\chi}\\left[\\frac{\\chi  K_ 1\\left({k_n \\chi}/{\\gamma }\\right)-K_ 1\\left({k_n }/{\\gamma}\\right)}{I_1\\left({k_n}/{\\gamma }\\right) K_1\\left({k_n\\chi }/{\\gamma}\\right)-K_1\\left({k_n}/{\\gamma\\\\}\\right) I_1\\left({k_n \\chi }/{\\gamma}\\right)}\\right]$,  $B_n=\\frac{I_ 1\\left({k_n}/{\\gamma}\\right)-\\chi  I_1\\left({k_n\\chi }/{\\gamma}\\right)}{\\chi  K_1\\left({k_n \\chi}/{\\gamma }\\right)-K_1\\left({k_n }/{\\gamma}\\right)} A_n$,  \n",
    "\n",
    "$k_n=\\pi (n-1/2)$,  $\\textit{Re}_C = ({h^2/\\nu})/({(r_i+r_o)/\\mathcal{U}_\\text{MS}})$, $\\chi = r_i/r_o$, and $\\gamma = h/r_o$,\n",
    "\n",
    "with dimensionless coordinates\n",
    "\n",
    "$\\tilde{r} = r/r_o$,    $\\tilde{z}=z/h$,   $t=\\tilde{t}(r_i+r_o)/\\mathcal{U}_\\text{MS}$,  \n",
    "\n",
    "and velocity scale\n",
    "\n",
    "$\\mathcal{U}_\\text{MS} =B_0 h I/(2 \\pi  \\nu  \\rho (r_i+r_o))$."
   ]
  },
  {
   "cell_type": "markdown",
   "metadata": {},
   "source": [
    "## Example 1: Plot analytical solution"
   ]
  },
  {
   "cell_type": "markdown",
   "metadata": {},
   "source": [
    "Create an instance of the `magStokes` class for a flow with 0.4 cm fluid layer depth, 4 cm inner cylinder radius, 18 cm outer cylinder radius, 0.03 Tesla (300 Gauss) magnetic field strength, and 0.08 A applied current:"
   ]
  },
  {
   "cell_type": "code",
   "execution_count": null,
   "metadata": {},
   "outputs": [],
   "source": [
    "flow = magStokes(h=0.004,r_i=0.04,r_o=0.18,B=0.03,Imax=0.08)"
   ]
  },
  {
   "cell_type": "markdown",
   "metadata": {},
   "source": [
    "Compute the density and viscosity for a saltwater solution with 80 ppt NaCl:H2O. Note that the `.customFluidProps()` method may be used to manually enter viscosity and density for an arbitrary fluid."
   ]
  },
  {
   "cell_type": "code",
   "execution_count": null,
   "metadata": {},
   "outputs": [],
   "source": [
    "flow.saltwaterProps(S=80)"
   ]
  },
  {
   "cell_type": "markdown",
   "metadata": {},
   "source": [
    "Print the computed aspect ratios, control Reynolds number, and velocity scale:"
   ]
  },
  {
   "cell_type": "code",
   "execution_count": null,
   "metadata": {},
   "outputs": [],
   "source": [
    "print(flow) "
   ]
  },
  {
   "cell_type": "markdown",
   "metadata": {},
   "source": [
    "Use the `.u()` method to compute the solution for an initially-quiescent flow 20 seconds after the power supply (I = 0.08 A) is turned on."
   ]
  },
  {
   "cell_type": "code",
   "execution_count": null,
   "metadata": {},
   "outputs": [],
   "source": [
    "# Independent variables\n",
    "t = 20 # seconds\n",
    "rArr = np.linspace(flow.r_i,flow.r_o,1001)\n",
    "zArr = np.linspace(flow.h,0,5)\n",
    "\n",
    "# Compute the steady solution in the shallow limit\n",
    "# (dashed gray line)\n",
    "u1DArr = flow.uShallow(r=rArr,z=flow.h)\n",
    "\n",
    "# Compute and plot 2D solution at each depth in `zArr`\n",
    "# using the `.u()` method\n",
    "cmap = matplotlib.cm.get_cmap('Blues')\n",
    "plt.plot(1e2*rArr,1e2*u1DArr,color='gray',linestyle='--',\n",
    "         label=f'z={1e2*flow.h:.1f} cm,\\n$\\\\gamma\\\\to\\\\infty,\\\\; t\\\\to\\\\infty$')\n",
    "for z in zArr:\n",
    "    uArr = flow.u(r=rArr,z=z,t=t)\n",
    "    plt.plot(1e2*rArr,1e2*uArr,color=cmap(z/flow.h),label=f'z={1e2*z:.1f} cm')\n",
    "plt.xlabel('r (cm)')\n",
    "plt.ylabel('u (cm/s)')\n",
    "plt.legend()\n",
    "plt.title(f't = {t:.1f} s = {t/flow.Tsp:.2f} $T_{{su}}$')\n",
    "plt.savefig('images/Soln.jpg',dpi=300)\n",
    "plt.show()"
   ]
  },
  {
   "cell_type": "markdown",
   "metadata": {},
   "source": [
    "## Example 2: Compute scales and dimensionless parameters"
   ]
  },
  {
   "cell_type": "markdown",
   "metadata": {},
   "source": [
    "Read in (dimensional) experimental parameters:"
   ]
  },
  {
   "cell_type": "code",
   "execution_count": null,
   "metadata": {},
   "outputs": [],
   "source": [
    "DimExpParam = pd.read_csv('example_data/example_data.csv')"
   ]
  },
  {
   "cell_type": "markdown",
   "metadata": {},
   "source": [
    "Compute aspect ratios, control Reyolds number, velocity scale, and time scales from dimensional experimental parameters:"
   ]
  },
  {
   "cell_type": "code",
   "execution_count": null,
   "metadata": {},
   "outputs": [],
   "source": [
    "compData = []\n",
    "\n",
    "for i in range(DimExpParam.shape[0]):\n",
    "    run = DimExpParam['RUN'][i]\n",
    "    h = 1e-2*DimExpParam['Height fluid (cm)'][i]\n",
    "    r_i = 1e-2*DimExpParam['Inner radius (cm)'][i]\n",
    "    r_o = 1e-2*DimExpParam['Outer radius (cm)'][i]\n",
    "    Imax = DimExpParam['Current (A)'][i]\n",
    "    B = 1e-4*DimExpParam['Magnetic field (Gauss)'][i]\n",
    "    S = DimExpParam['Salinity (ppt)'][i]\n",
    "\n",
    "    # Create magStokes instance with specified parameters\n",
    "    labFlow = magStokes(h=h,r_i=r_i,r_o=r_o,B=B,Imax=Imax)\n",
    "    # Input salinity. Compute dimensionless numbers and scales\n",
    "    labFlow.saltwaterProps(S=S)\n",
    "\n",
    "    # Store dimensionless numbers and scales\n",
    "    computedParams = [run, labFlow.γ, labFlow.χ, labFlow.ReC, labFlow.U, labFlow.T, labFlow.Tcirc, labFlow.Tsp]\n",
    "    compData.append(computedParams)\n",
    "\n",
    "compDataDf = pd.DataFrame(compData,columns=['Case','gamma','chi','ReC','U (m/s)','T (s)','Tcirc (s)','Tsp (s)'])\n",
    "\n",
    "pd.set_option('display.float_format',  '{:.1e}'.format)\n",
    "compDataDf"
   ]
  },
  {
   "cell_type": "markdown",
   "metadata": {},
   "source": [
    "Export computed values:"
   ]
  },
  {
   "cell_type": "code",
   "execution_count": null,
   "metadata": {},
   "outputs": [],
   "source": [
    "compDataDf.to_csv('example_data/example_compData.csv')"
   ]
  },
  {
   "cell_type": "markdown",
   "metadata": {},
   "source": [
    "## Example 3: Compare theory and lab data"
   ]
  },
  {
   "cell_type": "markdown",
   "metadata": {},
   "source": [
    "This example requires `skvideo` and ffmpeg."
   ]
  },
  {
   "cell_type": "code",
   "execution_count": null,
   "metadata": {},
   "outputs": [],
   "source": [
    "import skvideo.io"
   ]
  },
  {
   "cell_type": "markdown",
   "metadata": {},
   "source": [
    "Import video of laboratory Run A3 along with its metadata:"
   ]
  },
  {
   "cell_type": "code",
   "execution_count": null,
   "metadata": {},
   "outputs": [],
   "source": [
    "fname = 'example_data/RUN_A3.mp4'\n",
    "vdata = skvideo.io.vread(fname)\n",
    "metadata = skvideo.io.ffprobe(fname)"
   ]
  },
  {
   "cell_type": "markdown",
   "metadata": {},
   "source": [
    "Extract frame-rate from the metadata and get the outer radius of channel in pixels (the video is cropped so that the channel just fits within the frame)."
   ]
  },
  {
   "cell_type": "code",
   "execution_count": null,
   "metadata": {},
   "outputs": [],
   "source": [
    "frac_str = metadata['video']['@avg_frame_rate']\n",
    "num,den=[float(i) for i in frac_str.split('/')]\n",
    "frame_rate = num/den\n",
    "r_o_pixel = vdata[0].shape[0]/2"
   ]
  },
  {
   "cell_type": "markdown",
   "metadata": {},
   "source": [
    "Import parameter values for Run A3 and create a `magStokes` instance called `runA3`."
   ]
  },
  {
   "cell_type": "code",
   "execution_count": null,
   "metadata": {},
   "outputs": [],
   "source": [
    "DimExpParam = pd.read_csv('example_data/example_data.csv')\n",
    "\n",
    "RunA3Df = DimExpParam[DimExpParam['RUN']=='RUN A3']\n",
    "h = 1e-2*RunA3Df['Height fluid (cm)'].values[0]\n",
    "r_i = 1e-2*RunA3Df['Inner radius (cm)'].values[0]\n",
    "r_o = 1e-2*RunA3Df['Outer radius (cm)'].values[0]\n",
    "Imax = RunA3Df['Current (A)'].values[0]\n",
    "B = 1e-4*RunA3Df['Magnetic field (Gauss)'].values[0]\n",
    "S = RunA3Df['Salinity (ppt)'].values[0]\n",
    "\n",
    "# Create magStokes instance with specified parameters\n",
    "runA3 = magStokes(h=h,r_i=r_i,r_o=r_o,B=B,Imax=Imax)\n",
    "# Input salinity. Compute dimensionless numbers and scales\n",
    "runA3.saltwaterProps(S=S)"
   ]
  },
  {
   "cell_type": "markdown",
   "metadata": {},
   "source": [
    "Compute the predicted position of a dye streak using the `.theta()` method, and plot it against the lab video."
   ]
  },
  {
   "cell_type": "code",
   "execution_count": null,
   "metadata": {},
   "outputs": [],
   "source": [
    "# Create arrays of radial position\n",
    "rND = np.linspace(runA3.χ, 1, 1000)\n",
    "r = runA3.r_o * rND\n",
    "rPixel = r_o_pixel * rND\n",
    "\n",
    "fig,ax = plt.subplots(1,3,figsize=(8,3))\n",
    "\n",
    "for i in range(3):\n",
    "    # Convert time to frames\n",
    "    tapprox = runA3.Tsp*3*i\n",
    "    frame = int(frame_rate*tapprox)\n",
    "    t = frame/frame_rate\n",
    "\n",
    "    # Predict position of dye streak using `runA3.theta(...)`\n",
    "    thetaDye = runA3.theta(r=r,z=runA3.h,t=t,θ0=1.03*np.pi/2)\n",
    "    thetaShallowDye = runA3.thetaShallow(r=r,z=runA3.h,t=t,θ0=1.03*np.pi/2)\n",
    "    xDyePixel = r_o_pixel - rPixel*np.cos(thetaDye)\n",
    "    yDyePixel = r_o_pixel + rPixel*np.sin(thetaDye)\n",
    "    xDyeShalPixel = r_o_pixel - rPixel*np.cos(thetaShallowDye)\n",
    "    yDyeShalPixel = r_o_pixel + rPixel*np.sin(thetaShallowDye)\n",
    "\n",
    "    ax[i].plot(xDyeShalPixel,yDyeShalPixel,'k--',linewidth=1)\n",
    "    ax[i].plot(xDyePixel,yDyePixel,color='m')\n",
    "    ax[i].imshow(vdata[frame],origin='upper')\n",
    "    ax[i].axis('off')\n",
    "    ax[i].set_title(f'$t = {3*i:.0f}T_{{su}}$')\n",
    "plt.tight_layout()\n",
    "#plt.savefig('images/Dye.jpg',dpi=600)\n",
    "plt.show()"
   ]
  },
  {
   "cell_type": "markdown",
   "metadata": {},
   "source": [
    "## Example 4: Choosing experimental parameters"
   ]
  },
  {
   "cell_type": "markdown",
   "metadata": {},
   "source": [
    "For a given fluid layer depth, we can choose the current to apply based on desired spin-up ($T_{su}$) and circulation timescales ($T_{circ}$).\n",
    "\n",
    "First define a function to plot $T_{su}$ and $T_{circ}$ vs. current:"
   ]
  },
  {
   "cell_type": "code",
   "execution_count": null,
   "metadata": {},
   "outputs": [],
   "source": [
    "def plotTimescales(h,r_i,r_o,B):\n",
    "\n",
    "    n = 50\n",
    "    IArr = np.linspace(0.02,0.2,n)\n",
    "    TspArr = np.zeros(n)\n",
    "    TcircArr = np.zeros(n)\n",
    "\n",
    "    for i in range(n):\n",
    "        Imax = IArr[i]\n",
    "        flow = magStokes(h=h,r_i=r_i,r_o=r_o,B=B,Imax=Imax)\n",
    "        flow.saltwaterProps(S=80)\n",
    "        TspArr[i] = flow.Tsp\n",
    "        TcircArr[i] = flow.Tcirc\n",
    "\n",
    "    plt.plot(IArr,3*TspArr,label=\"$3 T_{su}$\")\n",
    "    plt.plot(IArr,TcircArr,label=\"$T_{circ}$\")\n",
    "    plt.ylim(0,max(4*TspArr[0],180))\n",
    "    plt.xlim(IArr[0],IArr[-1])\n",
    "    plt.xlabel(\"Current, I (A)\",fontsize = 12)\n",
    "    plt.ylabel(\"Timescale (s)\",fontsize = 12)\n",
    "    plt.grid()\n",
    "    plt.legend()\n",
    "    title = f\"Timescales for $h =$ {100*flow.h:.1f} cm\\n\"\n",
    "    title += f\"$B = $ {flow.B:.2f} T, $r_i = $ {100*flow.r_i:.1f} cm, $r_o = $ {100*flow.r_o:.1f} cm\"\n",
    "    plt.title(title)\n",
    "    plt.show()"
   ]
  },
  {
   "cell_type": "markdown",
   "metadata": {},
   "source": [
    "Set depth of fluid, channel radii, and magnetic field. Plot timescales vs. current:"
   ]
  },
  {
   "cell_type": "code",
   "execution_count": null,
   "metadata": {},
   "outputs": [],
   "source": [
    "r_i = 0.04 # m\n",
    "r_o = 0.18 # m\n",
    "B = 0.02 # T\n",
    "h = 0.008 # m\n",
    "\n",
    "plotTimescales(h,r_i,r_o,B)"
   ]
  },
  {
   "cell_type": "markdown",
   "metadata": {},
   "source": [
    "The plot above shows that a choice of $I$ = 0.06 A ensures the flow is dominantly viscous ($3T_{su} < T_{circ}$) without making it too slow ($T_{circ}$ is still under 2 minutes)."
   ]
  },
  {
   "cell_type": "markdown",
   "metadata": {},
   "source": []
  }
 ],
 "metadata": {
  "kernelspec": {
   "display_name": "Python 3 (ipykernel)",
   "language": "python",
   "name": "python3"
  },
  "language_info": {
   "codemirror_mode": {
    "name": "ipython",
    "version": 3
   },
   "file_extension": ".py",
   "mimetype": "text/x-python",
   "name": "python",
   "nbconvert_exporter": "python",
   "pygments_lexer": "ipython3",
   "version": "3.9.13"
  }
 },
 "nbformat": 4,
 "nbformat_minor": 4
}
