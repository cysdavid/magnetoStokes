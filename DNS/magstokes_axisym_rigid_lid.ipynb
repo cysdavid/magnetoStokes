{
 "cells": [
  {
   "cell_type": "markdown",
   "id": "6d26edef-1314-45b0-9dfc-ce063394f31f",
   "metadata": {},
   "source": [
    "# Axisymmetric Magneto-Stokes Flow with a Rigid Free-slip Lid"
   ]
  },
  {
   "cell_type": "markdown",
   "id": "8bc0bb4a",
   "metadata": {},
   "source": [
    "This notebook performs the simulations described in Section 3.2 of David et al. (2024) (https://doi.org/10.1017/jfm.2024.674)\n",
    "\n",
    "**NOTE:** *This notebook uses Dedalus v2 (https://github.com/DedalusProject/dedalus/releases/tag/v2.2207)*"
   ]
  },
  {
   "cell_type": "code",
   "execution_count": null,
   "id": "a0d033ce-179e-4db8-8f8d-e2ee2732ea45",
   "metadata": {},
   "outputs": [],
   "source": [
    "import dedalus.public as de\n",
    "from dedalus.tools import post\n",
    "import magstokes_soln_minimal as magstokes\n",
    "import numpy as np\n",
    "import matplotlib\n",
    "import matplotlib.pyplot as plt\n",
    "import matplotlib.colors\n",
    "from scipy.special import erf\n",
    "import os\n",
    "import pandas as pd\n",
    "import glob\n",
    "import file_tools as flt\n",
    "import re"
   ]
  },
  {
   "cell_type": "markdown",
   "id": "e20b9aa2-4e75-477b-8b44-a137ffeab481",
   "metadata": {
    "tags": []
   },
   "source": [
    "# Implement solver for magneto-Couette flow"
   ]
  },
  {
   "cell_type": "code",
   "execution_count": null,
   "id": "c40ae7b9-87fb-4e3b-a46c-9d69d97aa3dd",
   "metadata": {},
   "outputs": [],
   "source": [
    "def MagnetoCouetteFlow(Re,H,R,simtime,save_freq,dt,nz,nr,timestepper,save_dir,sim_name,Print=True):\n",
    "    split = 1\n",
    "\n",
    "    max_sim_time = simtime\n",
    "    save_freq = int(round(save_freq))\n",
    "    \n",
    "    zbasis = de.SinCos('z',nz,interval=(-.02,1))\n",
    "    rbasis = de.Chebyshev('r',nr,interval=(R,1))\n",
    "    domain = de.Domain([zbasis,rbasis],grid_dtype=np.float64)\n",
    "    zg, rg = domain.all_grids() # domain.grids()\n",
    "    r,z = [de.Field(domain, name='r'),de.Field(domain, name='z')]\n",
    "    z.meta['z']['parity'] = -1\n",
    "    r.meta['z']['parity'] = 1\n",
    "    zz, rr = zg+0*rg, 0*zg+rg\n",
    "    r['g'] = rr\n",
    "    z['g'] = zz\n",
    "\n",
    "    mask = lambda x: (1/2)*(1 - erf(np.pi**(1/2)*x))\n",
    "    delta = 0.01\n",
    "    A = 3.11346786\n",
    "    wall = domain.new_field()\n",
    "    wall.meta['z']['parity'] = 1\n",
    "    wall['g'] = mask(zg/delta)\n",
    "    eps = delta/A\n",
    "    Gamma = 1/Re*eps**(-2)\n",
    "\n",
    "    switch = domain.new_field()\n",
    "    switch.meta['z']['parity'] = -1\n",
    "    switch['g'] = np.tanh(-(zg-1)/delta) - wall['g']\n",
    "\n",
    "\n",
    "    def heaviside(x): \n",
    "        if x < 0: return 0\n",
    "        elif x >=0: return 1\n",
    "\n",
    "    from dedalus.core.operators import GeneralFunction\n",
    "    # Define GeneralFunction subclass for time dependent boundary conditions\n",
    "    class ConstantFunction(GeneralFunction):\n",
    "        def __init__(self, domain, layout, func, args=[], kw={}, out=None,):\n",
    "            super().__init__(domain, layout, func, args=[], kw={}, out=None,)\n",
    "\n",
    "        def meta_constant(self, axis):\n",
    "            return True\n",
    "\n",
    "        def meta_parity(self, axis):\n",
    "            return 1\n",
    "\n",
    "    def impulse(solver): return heaviside(solver.sim_time)\n",
    "\n",
    "    impulse_func = ConstantFunction(domain, layout='g', func=impulse)\n",
    "\n",
    "    problem = de.IVP(domain,variables=['ur','urr','ut','utr','uz','uzr','p','Theta','Radius'])\n",
    "    problem.parameters['Re'] = Re\n",
    "    problem.parameters['wall'] = wall\n",
    "    problem.parameters['H'] = H\n",
    "    problem.parameters['R'] = R\n",
    "    problem.parameters['Gamma'] = Gamma\n",
    "    problem.parameters['switch'] = switch\n",
    "    problem.parameters['i'] = impulse_func\n",
    "    problem.parameters['A'] = split\n",
    "    \n",
    "    problem.meta['ur','ut','urr','utr','p','Theta','Radius']['z']['parity'] = 1 # cosines\n",
    "    problem.meta['uz','uzr']['z']['parity'] = -1 # sines\n",
    "    \n",
    "    problem.add_equation('dr(ur) - urr = 0')\n",
    "    problem.add_equation('dr(ut) - utr = 0')\n",
    "    problem.add_equation('dr(uz) - uzr = 0')\n",
    "    problem.add_equation('ur + r*urr + r*dz(uz) = 0') \n",
    "    problem.add_equation('dt(ur) + (1+R)*dr(p)      - 1/Re*(H**2*dr(urr) + dz(dz(ur))) + A*Gamma*ur = -(1+R)*(ur*urr + uz*dz(ur) -  ut**2/r ) + H**2/Re*(urr/r - ur/r**2)                 + Gamma*(A-wall)*ur')\n",
    "    problem.add_equation('dt(ut)                    - 1/Re*(H**2*dr(utr) + dz(dz(ut))) + A*Gamma*ut = -(1+R)*(ur*utr + uz*dz(ut) + (ut*ur)/r) + H**2/Re*(utr/r - ut/r**2) + (1+R)/Re*i/r + Gamma*(A-wall)*ut')\n",
    "    problem.add_equation('dt(uz) + (1+R)/H**2*dz(p) - 1/Re*(H**2*dr(uzr) + dz(dz(uz))) + A*Gamma*uz = -(1+R)*(ur*uzr + uz*dz(uz)            ) + H**2/Re*uzr/r                             + Gamma*(A-wall)*uz')\n",
    "    problem.add_equation('dt(Theta) - (1+R)*ut/r = 0')\n",
    "    problem.add_equation('dt(Radius) - (1+R)*ur = 0')\n",
    "    \n",
    "    problem.add_bc('left(ur) = 0',condition='nz != 0')\n",
    "    problem.add_bc('left(p) = 0', condition='nz == 0')\n",
    "    problem.add_bc('left(ut) = 0')\n",
    "    problem.add_bc('left(uz) = 0')\n",
    "    problem.add_bc('right(ur) = 0')\n",
    "    problem.add_bc('right(ut) = 0')\n",
    "    problem.add_bc('right(uz) = 0')\n",
    "\n",
    "    solver = problem.build_solver(getattr(de.timesteppers,timestepper))\n",
    "\n",
    "    impulse_func.original_args = impulse_func.args = [solver]\n",
    "\n",
    "    ur, urr, ut, utr, uz, uzr, p, Theta, Radius = [solver.state[_] for _ in problem.variables]\n",
    "    Radius['g'] = rg[0,:]\n",
    "    \n",
    "    utTheory = de.Field(domain, name='utTheory')\n",
    "    utTheory.meta['z']['parity'] = 1\n",
    "    utTheory['g'] = magstokes.uND(rr,zz,solver.sim_time,H,R,Re,5)\n",
    "\n",
    "    import file_tools as flt # another github repo of Eric Hester's on github\n",
    "    flt.makedir(save_dir)\n",
    "    analysis = solver.evaluator.add_file_handler(f'{save_dir}/analysis-{sim_name}',iter=save_freq)\n",
    "    for f in problem.variables: analysis.add_task(f)\n",
    "\n",
    "    norm_op = de.operators.integrate(r*1,'z','r')\n",
    "    rad_norm_op = de.operators.integrate(r*1,'r')\n",
    "\n",
    "    merid_mag2 = (ur*ur + H*uz*H*uz) \n",
    "    rms_u_merid_op =  (1/norm_op * de.operators.integrate((1-wall)*r*merid_mag2,'z','r'))**(1/2)\n",
    "\n",
    "    avg_ut_op =  (1/norm_op * de.operators.integrate((1-wall)*r*ut,'z','r'))**(1/2)\n",
    "\n",
    "    ut_mag2 = ut*ut\n",
    "    rms_ut_op =  (1/norm_op * de.operators.integrate((1-wall)*r*ut_mag2,'z','r'))**(1/2)\n",
    "\n",
    "    error_mag2 = (ut - utTheory)**2\n",
    "    rms_ut_error_op =  (1/norm_op * de.operators.integrate((1-wall)*r*error_mag2,'z','r'))**(1/2)\n",
    "    rad_rms_ut_error2_op =  (1/rad_norm_op * de.operators.integrate((1-wall)*r*error_mag2,'r'))\n",
    "\n",
    "    rel_error_mag2 = ((ut - utTheory)/utTheory)**2\n",
    "    rms_rel_ut_error_op =  (1/norm_op * de.operators.integrate((1-wall)*r*rel_error_mag2,'z','r'))**(1/2)\n",
    "    rad_rms_rel_ut_error2_op =  (1/rad_norm_op * de.operators.integrate((1-wall)*r*rel_error_mag2,'r'))\n",
    "    \n",
    "    analysis.add_task(1/H*zbasis.Differentiate(ur) - H*rbasis.Differentiate(uz), layout='g', name='vorttheta')\n",
    "    analysis.add_task(rms_u_merid_op, layout='g', name='rms_u_merid')\n",
    "    analysis.add_task(avg_ut_op, layout='g', name='avg_ut')\n",
    "    analysis.add_task(rms_ut_op, layout='g', name='rms_ut')\n",
    "    analysis.add_task(rms_ut_error_op, layout='g', name='rms_ut_error')\n",
    "    analysis.add_task(rad_rms_ut_error2_op, layout='g', name='rad_rms_ut_error2')\n",
    "    analysis.add_task(rms_rel_ut_error_op, layout='g', name='rms_rel_ut_error')\n",
    "    analysis.add_task(rad_rms_rel_ut_error2_op, layout='g', name='rad_rms_rel_ut_error2')\n",
    "    analysis.add_task(wall, layout='g', name='wall')\n",
    "\n",
    "    while solver.sim_time <= simtime:\n",
    "        utTheory['g'] = magstokes.uND(rr,zz,solver.sim_time,H,R,Re,5)\n",
    "        solver.step(dt)\n",
    "        if solver.iteration % 100 == 0:\n",
    "            if Print==True:\n",
    "                print(f'it {solver.iteration}',\n",
    "                      f't {solver.sim_time:.2f}',\n",
    "                      f'|ut| max {np.abs(ut[\"g\"]).max():.3f}')\n",
    "            if np.any(np.isnan(ut['g'])): \n",
    "                print('Broken')\n",
    "                break"
   ]
  },
  {
   "cell_type": "code",
   "execution_count": null,
   "id": "2ffddb77-d6c0-4a44-94bd-21befdaaf71e",
   "metadata": {},
   "outputs": [],
   "source": [
    "control_exp_param = pd.read_csv(os.path.join('..','laboratory','laboratory-data','nondimensional-parameters.csv'))\n",
    "control_exp_param.head(4)"
   ]
  },
  {
   "cell_type": "code",
   "execution_count": null,
   "id": "ab7df815-a028-4838-89f5-cdb1146d004a",
   "metadata": {},
   "outputs": [],
   "source": [
    "runs = np.array(['RUN A3','RUN C2','RUN D1','RUN E1'])"
   ]
  },
  {
   "cell_type": "code",
   "execution_count": null,
   "id": "ab057851-a845-49fc-9a14-4e50d0ae72b4",
   "metadata": {},
   "outputs": [],
   "source": [
    "save_dir = os.path.join('DNS-data','RigidLid','exp-matching')\n",
    "flt.makedir(save_dir)"
   ]
  },
  {
   "cell_type": "markdown",
   "id": "2d5fd498-d704-47d4-a888-8aa58d6507a8",
   "metadata": {
    "tags": []
   },
   "source": [
    "## Simulate"
   ]
  },
  {
   "cell_type": "code",
   "execution_count": null,
   "id": "f4098950-6654-410b-87f2-6b7bfe924458",
   "metadata": {
    "tags": []
   },
   "outputs": [],
   "source": [
    "%%time\n",
    "# Should take around 6 hours total\n",
    "\n",
    "for run in runs:\n",
    "    Re = control_exp_param[control_exp_param['RUN']==run]['Re'].item()\n",
    "    H = control_exp_param[control_exp_param['RUN']==run]['H'].item()\n",
    "    R = control_exp_param[control_exp_param['RUN']==run]['R'].item()\n",
    "    \n",
    "    tau = (2/np.pi)**2*Re\n",
    "    simtime = 1.1*np.pi #5*tau #2*5*tau\n",
    "    save_freq = 10\n",
    "    timestepper = 'SBDF2'\n",
    "    \n",
    "    dt = simtime/1e4 #2.5e-4*simtime\n",
    "    nz = 512 #20\n",
    "    nr = 256 #500 #50\n",
    "    \n",
    "    run_name = run.replace(' ','-')\n",
    "    sim_name = f'mhd-2D-axisymmetric-VP-implicit-{timestepper}-{run_name}-nz={nz}-nr={nr}'\n",
    "    print(sim_name)\n",
    "   \n",
    "    ###############\n",
    "\n",
    "    MagnetoCouetteFlow(Re,H,R,simtime,save_freq,dt,nz,nr,timestepper,save_dir,sim_name,Print=True)\n",
    "    "
   ]
  },
  {
   "cell_type": "code",
   "execution_count": null,
   "metadata": {},
   "outputs": [],
   "source": [
    "# Get sorted list of directories containing data files\n",
    "analysis_dirs = sorted(glob.glob(os.path.join(f'{save_dir}','analysis*VP*')))\n",
    "# Merge output files\n",
    "for analysis in analysis_dirs:\n",
    "    post.merge_analysis(analysis,cleanup=True)\n",
    "    \n",
    "    # Get list of HDF5 set paths\n",
    "    setpaths = glob.glob(os.path.join(f'{analysis}','*s?.h5'))\n",
    "    if len(setpaths)!=0:\n",
    "        jointpath = re.sub('_s*.', '', setpaths[0])\n",
    "        post.merge_sets(jointpath, setpaths, cleanup=True)"
   ]
  },
  {
   "cell_type": "markdown",
   "id": "8a481091",
   "metadata": {},
   "source": [
    "## Plot"
   ]
  },
  {
   "cell_type": "code",
   "execution_count": null,
   "id": "3935a481",
   "metadata": {},
   "outputs": [],
   "source": [
    "# Import data\n",
    "run='RUN A3'\n",
    "\n",
    "nz = 512\n",
    "nr = 256\n",
    "run_name = run.replace(' ','-')\n",
    "file = glob.glob(f'{save_dir}/*/*{run_name}-nz={nz}-nr={nr}.h5')[0]\n",
    "r, z, t = flt.load_data(file,'r/1.0','z/1.0','sim_time',group='scales')\n",
    "zz, rr = np.meshgrid(z, r, indexing='ij')\n",
    "uts, = flt.load_data(file, 'ut',group='tasks')\n",
    "urs, = flt.load_data(file, 'ur',group='tasks')\n",
    "uzs, = flt.load_data(file, 'uz',group='tasks')\n",
    "vortthetas, = flt.load_data(file, 'vorttheta',group='tasks')\n",
    "Radii, = flt.load_data(file, 'Radius',group='tasks')\n",
    "Thetas, = flt.load_data(file, 'Theta',group='tasks')\n",
    "rms_u_merid, = flt.load_data(file, 'rms_u_merid',group='tasks')\n",
    "rms_ut,= flt.load_data(file, 'rms_ut',group='tasks')\n",
    "avg_ut,= flt.load_data(file, 'avg_ut',group='tasks')\n",
    "rms_ut_error, = flt.load_data(file, 'rms_ut_error',group='tasks')\n",
    "rms_rel_ut_error, = flt.load_data(file, 'rms_rel_ut_error',group='tasks')\n",
    "wall, = flt.load_data(file, 'wall',group='tasks')"
   ]
  },
  {
   "cell_type": "code",
   "execution_count": null,
   "id": "c3275bc5",
   "metadata": {},
   "outputs": [],
   "source": [
    "# Plot azimuthal velocity\n",
    "\n",
    "z_levels = 5\n",
    "z_stride = zz.shape[0]//z_levels\n",
    "cmap = matplotlib.cm.Blues\n",
    "for i in range(z_levels,0,-1):\n",
    "    z_idx = i*z_stride - 1 \n",
    "    plt.plot(rr[z_idx,:],uts[-1,z_idx,:],color=cmap(i/z_levels),label=f'$\\\\zeta = {zz[z_idx,0]:.1f}$')\n",
    "plt.xlabel('$\\\\rho = r/r_o$')\n",
    "plt.ylabel('$\\\\upsilon_\\\\phi$')\n",
    "plt.legend()\n",
    "plt.show()\n"
   ]
  }
 ],
 "metadata": {
  "kernelspec": {
   "display_name": "dedalus2",
   "language": "python",
   "name": "dedalus2"
  },
  "language_info": {
   "codemirror_mode": {
    "name": "ipython",
    "version": 3
   },
   "file_extension": ".py",
   "mimetype": "text/x-python",
   "name": "python",
   "nbconvert_exporter": "python",
   "pygments_lexer": "ipython3",
   "version": "3.9.13"
  }
 },
 "nbformat": 4,
 "nbformat_minor": 5
}
