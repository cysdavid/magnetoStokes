{
 "cells": [
  {
   "cell_type": "markdown",
   "id": "6d26edef-1314-45b0-9dfc-ce063394f31f",
   "metadata": {},
   "source": [
    "# Axisymmetric Magneto-Couette Flow with Vertical Hydrostatic Balance and Radial Centrifugal-Pressure-Gradient Balance (no meridional flow)"
   ]
  },
  {
   "cell_type": "code",
   "execution_count": null,
   "id": "a0d033ce-179e-4db8-8f8d-e2ee2732ea45",
   "metadata": {},
   "outputs": [],
   "source": [
    "import dedalus.public as de\n",
    "from dedalus.tools import post\n",
    "import numpy as np\n",
    "import matplotlib\n",
    "import matplotlib.pyplot as plt\n",
    "import matplotlib.colors\n",
    "from scipy.special import erf,i1,k1\n",
    "import scipy.optimize\n",
    "#import seaborn as sns\n",
    "import pandas as pd\n",
    "import glob\n",
    "import file_tools as flt\n",
    "import re\n",
    "\n",
    "%matplotlib inline\n",
    "%config InlineBackend.figure_format='retina'"
   ]
  },
  {
   "cell_type": "code",
   "execution_count": null,
   "id": "ff3d9cf3-1082-4515-8820-62bd6016a011",
   "metadata": {},
   "outputs": [],
   "source": [
    "from matplotlib import font_manager\n",
    "import matplotlib\n",
    "\n",
    "font_dirs = ['/Users/cydavid/Documents/Fonts/CMBright']\n",
    "font_files = font_manager.findSystemFonts(fontpaths=font_dirs)\n",
    "\n",
    "for font_file in font_files:\n",
    "    font_manager.fontManager.addfont(font_file)\n",
    "\n",
    "plt.rcParams['font.family'] = 'CMU Bright'\n",
    "plt.rcParams['font.weight'] = 'regular'\n",
    "plt.rc('axes', unicode_minus=False)"
   ]
  },
  {
   "cell_type": "markdown",
   "id": "9171447c-89b4-46e8-9b07-f56859a7af5f",
   "metadata": {
    "tags": []
   },
   "source": [
    "# Implement 2D analytical solution:"
   ]
  },
  {
   "cell_type": "code",
   "execution_count": null,
   "id": "f7d5b8f0-14e8-4d22-a8e3-7cc5d86ce276",
   "metadata": {},
   "outputs": [],
   "source": [
    "def An(r,n,γ,χ):\n",
    "    an = (16*(1 + χ)*(i1(((-0.5 + n)*np.pi*r)/γ)*(-(r*k1(((-0.5 + n)*np.pi)/γ)) + χ*r*k1((χ*(-0.5 + n)*np.pi)/γ)) + \n",
    "            χ*i1((χ*(-0.5 + n)*np.pi)/γ)*(k1(((-0.5 + n)*np.pi)/γ) - r*k1(((-0.5 + n)*np.pi*r)/γ)) + \n",
    "            i1(((-0.5 + n)*np.pi)/γ)*(-(χ*k1((χ*(-0.5 + n)*np.pi)/γ)) + \n",
    "            r*k1(((-0.5 + n)*np.pi*r)/γ))))/(χ*(-1 + 2*n)**3*np.pi**3*r*(i1((χ*(-0.5 + n)*np.pi)/γ)*k1(((-0.5 + n)*np.pi)/γ) - \n",
    "            i1(((-0.5 + n)*np.pi)/γ)*k1((χ*(-0.5 + n)*np.pi)/γ)))\n",
    "    return an\n",
    "        \n",
    "def u2D(r,z,l,γ,χ):\n",
    "    u2Darr = np.array([An(r,n,γ,χ)*np.sin((-0.5 + n)*np.pi*z) for n in range(1,l+1)])\n",
    "    return u2Darr.sum(axis=0)"
   ]
  },
  {
   "cell_type": "markdown",
   "id": "e20b9aa2-4e75-477b-8b44-a137ffeab481",
   "metadata": {
    "tags": []
   },
   "source": [
    "# Implement solver for magneto-Couette flow"
   ]
  },
  {
   "cell_type": "code",
   "execution_count": null,
   "id": "c40ae7b9-87fb-4e3b-a46c-9d69d97aa3dd",
   "metadata": {},
   "outputs": [],
   "source": [
    "def MagnetoCouetteFlow(ReC,γ,χ,simtime,save_freq,dt,nz,nr,timestepper,save_dir,Print=True):\n",
    "    split = 1\n",
    "\n",
    "    max_sim_time = simtime\n",
    "    save_freq = int(round(save_freq))\n",
    "    \n",
    "    zbasis = de.SinCos('z',nz,interval=(-.1,1))\n",
    "    rbasis = de.Chebyshev('r',nr,interval=(χ,1))\n",
    "    domain = de.Domain([zbasis,rbasis],grid_dtype=np.float64)\n",
    "    z, r = domain.grids()\n",
    "\n",
    "    mask = lambda x: (1/2)*(1 - erf(np.pi**(1/2)*x))\n",
    "    δ = .05\n",
    "    A = 3.11346786\n",
    "    wall = domain.new_field()\n",
    "    wall.meta['z']['parity'] = 1\n",
    "    wall['g'] = mask(z/δ)\n",
    "    ϵ = δ/A\n",
    "    Γ = 1/ReC*ϵ**(-2)\n",
    "\n",
    "    switch = domain.new_field()\n",
    "    switch.meta['z']['parity'] = -1\n",
    "    switch['g'] = np.tanh(-(z-1)/δ) - wall['g']\n",
    "\n",
    "\n",
    "    def heaviside(x): \n",
    "        if x < 0: return 0\n",
    "        elif x >=0: return 1\n",
    "\n",
    "    from dedalus.core.operators import GeneralFunction\n",
    "    # Define GeneralFunction subclass for time dependent boundary conditions\n",
    "    class ConstantFunction(GeneralFunction):\n",
    "        def __init__(self, domain, layout, func, args=[], kw={}, out=None,):\n",
    "            super().__init__(domain, layout, func, args=[], kw={}, out=None,)\n",
    "\n",
    "        def meta_constant(self, axis):\n",
    "            return True\n",
    "\n",
    "        def meta_parity(self, axis):\n",
    "            return 1\n",
    "\n",
    "    def impulse(solver): return heaviside(solver.sim_time)\n",
    "\n",
    "    impulse_func = ConstantFunction(domain, layout='g', func=impulse)\n",
    "\n",
    "    problem = de.IVP(domain,variables=['ut','utr','Theta'])\n",
    "    problem.parameters['ReC'] = ReC\n",
    "    problem.parameters['wall'] = wall\n",
    "    problem.parameters['γ'] = γ\n",
    "    problem.parameters['χ'] = χ\n",
    "    problem.parameters['Γ'] = Γ\n",
    "    problem.parameters['switch'] = switch\n",
    "    problem.parameters['i'] = impulse_func\n",
    "    problem.parameters['A'] = split\n",
    "    \n",
    "    problem.meta['ut','utr','Theta']['z']['parity'] = 1 # cosines\n",
    "    \n",
    "    problem.add_equation('dr(ut) - utr = 0')\n",
    "    problem.add_equation('dt(ut) - 1/ReC*(γ**2*dr(utr) + dz(dz(ut))) + A*Γ*ut =  γ**2/ReC*(utr/r - ut/r**2) + (1+χ)/ReC*i/r + Γ*(A-wall)*ut')\n",
    "    problem.add_equation('dt(Theta) - (1+χ)*ut/r = 0')\n",
    "    \n",
    "    problem.add_bc('left(ut) = 0')\n",
    "    problem.add_bc('right(ut) = 0')\n",
    "\n",
    "    solver = problem.build_solver(getattr(de.timesteppers,timestepper))\n",
    "\n",
    "    impulse_func.original_args = impulse_func.args = [solver]\n",
    "\n",
    "    zz, rr = z+0*r, 0*z+r\n",
    "\n",
    "    ut, utr, Theta = [solver.state[_] for _ in problem.variables]\n",
    "\n",
    "    import file_tools as flt # another github repo of Eric Hester's on github\n",
    "    flt.makedir(save_dir)\n",
    "    analysis = solver.evaluator.add_file_handler(f'{save_dir}/analysis-{sim_name}',iter=save_freq)\n",
    "    for f in problem.variables: analysis.add_task(f)\n",
    "\n",
    "    while solver.sim_time <= simtime:\n",
    "        solver.step(dt)\n",
    "        if solver.iteration % 100 == 0:\n",
    "            if Print==True:\n",
    "                print(f'it {solver.iteration}',\n",
    "                      f't {solver.sim_time:.2f}',\n",
    "                      f'|ut| max {np.abs(ut[\"g\"]).max():.3f}')\n",
    "            if np.any(np.isnan(ut['g'])): \n",
    "                print('Broken')\n",
    "                break"
   ]
  },
  {
   "cell_type": "markdown",
   "id": "39b23e9d-f19d-459a-93c3-983b44345feb",
   "metadata": {
    "tags": []
   },
   "source": [
    "# Matching experiments with 2D axisymmetric simulations"
   ]
  },
  {
   "cell_type": "code",
   "execution_count": null,
   "id": "2ffddb77-d6c0-4a44-94bd-21befdaaf71e",
   "metadata": {},
   "outputs": [],
   "source": [
    "nondim_exp_param = pd.read_csv('../experimental_processing/experimental_data/nondim_exp_param.csv')\n",
    "nondim_exp_param.head(2)"
   ]
  },
  {
   "cell_type": "code",
   "execution_count": null,
   "id": "ab7df815-a028-4838-89f5-cdb1146d004a",
   "metadata": {},
   "outputs": [],
   "source": [
    "runs = runs = np.array(['RUN A3','RUN C2','RUN D1','RUN E1'])"
   ]
  },
  {
   "cell_type": "code",
   "execution_count": null,
   "id": "ab057851-a845-49fc-9a14-4e50d0ae72b4",
   "metadata": {},
   "outputs": [],
   "source": [
    "save_dir = 'data/CentHSE/exp-matching'"
   ]
  },
  {
   "cell_type": "markdown",
   "id": "2d5fd498-d704-47d4-a888-8aa58d6507a8",
   "metadata": {
    "tags": []
   },
   "source": [
    "## Simulate"
   ]
  },
  {
   "cell_type": "code",
   "execution_count": null,
   "id": "f4098950-6654-410b-87f2-6b7bfe924458",
   "metadata": {
    "tags": []
   },
   "outputs": [],
   "source": [
    "%%time\n",
    "\n",
    "for run in runs:\n",
    "    ReC = nondim_exp_param[nondim_exp_param['RUN']==run]['ReC'].item()\n",
    "    γ = nondim_exp_param[nondim_exp_param['RUN']==run]['γ'].item()\n",
    "    χ = nondim_exp_param[nondim_exp_param['RUN']==run]['χ'].item()\n",
    "    \n",
    "    τ = (2/np.pi)**2*ReC\n",
    "    simtime = 1.1*np.pi #5*τ #2*5*τ\n",
    "    save_freq = 2\n",
    "    timestepper = 'SBDF2'\n",
    "    \n",
    "    dt = 5e-5*simtime #2.5e-4*simtime\n",
    "    nz = 100 #20\n",
    "    nr = 201 #500 #50\n",
    "\n",
    "    run_name = run.replace(' ','-')\n",
    "    sim_name = f'mhd-2D-axisymmetric-VP-implicit-{timestepper}-{run_name}-nz={nz}-nr={nr}'\n",
    "    print(sim_name)\n",
    "    \n",
    "    ###############\n",
    "\n",
    "    MagnetoCouetteFlow(ReC,γ,χ,simtime,save_freq,dt,nz,nr,timestepper,save_dir,Print=False)\n",
    "    "
   ]
  },
  {
   "cell_type": "markdown",
   "id": "0cf64710-a331-4e39-a3ed-4bda65a8ec0f",
   "metadata": {
    "tags": []
   },
   "source": [
    "## Analysis"
   ]
  },
  {
   "cell_type": "markdown",
   "id": "9aa6ae98-7464-4453-834f-521ae4194ae5",
   "metadata": {},
   "source": [
    "### Merge output files and get keys"
   ]
  },
  {
   "cell_type": "code",
   "execution_count": null,
   "id": "2f84c598-e5ce-468b-bacc-3ad3d6afd1a0",
   "metadata": {
    "tags": []
   },
   "outputs": [],
   "source": [
    "# Get sorted list of directories containing data files\n",
    "analysis_dirs = sorted(glob.glob(f'{save_dir}/analysis*VP*'))\n",
    "# Merge output files\n",
    "for analysis in analysis_dirs:\n",
    "    post.merge_analysis(analysis,cleanup=True)\n",
    "    \n",
    "    # Get list of HDF5 set paths\n",
    "    setpaths = glob.glob(f'{analysis}/*s?.h5')\n",
    "    if len(setpaths)!=0:\n",
    "        jointpath = re.sub('_s*.', '', setpaths[0])\n",
    "        post.merge_sets(jointpath, setpaths, cleanup=True)"
   ]
  },
  {
   "cell_type": "markdown",
   "id": "14566f1d-f415-4ad0-945c-c43b0ed24ab6",
   "metadata": {},
   "source": [
    "### Load data"
   ]
  },
  {
   "cell_type": "code",
   "execution_count": null,
   "id": "acdac349",
   "metadata": {},
   "outputs": [],
   "source": [
    "runs"
   ]
  },
  {
   "cell_type": "code",
   "execution_count": null,
   "id": "bedf44f6-dd79-4d73-a53f-463d8dc694b8",
   "metadata": {},
   "outputs": [],
   "source": [
    "fig, axs = plt.subplots(1,len(runs))\n",
    "i = 0\n",
    "for run in runs:\n",
    "    run_name = run.replace(' ','-')\n",
    "    i = np.where(runs==run)[0][0]\n",
    "    files = glob.glob(f'{save_dir}/*/*{run_name}*.h5')\n",
    "    for file in files:\n",
    "        r, z, t = flt.load_data(file,'r/1.0','z/1.0','sim_time',group='scales')\n",
    "        zz, rr = np.meshgrid(z, r, indexing='ij')\n",
    "        uts, = flt.load_data(file, 'ut',group='tasks')\n",
    "        Thetas, = flt.load_data(file, 'Theta',group='tasks')\n",
    "        axs[i].plot(rr[-1,:],uts[-1,-1,:])\n",
    "    i+=1"
   ]
  },
  {
   "cell_type": "markdown",
   "id": "b2ea944b-5651-483c-8cb1-912983af8b67",
   "metadata": {},
   "source": [
    "### Export angular displacement data"
   ]
  },
  {
   "cell_type": "code",
   "execution_count": null,
   "id": "addb9c0e-4e9d-43bc-935d-ed4a91524ed4",
   "metadata": {},
   "outputs": [],
   "source": [
    "surfangdisp = Thetas[:,-1,:]\n",
    "\n",
    "dye_advec_save_dir = f'{save_dir}/DyeAdvection'\n",
    "flt.makedir(dye_advec_save_dir)\n",
    "\n",
    "angdispfname = f'{dye_advec_save_dir}/Ang-Disp-{run_name}.csv'\n",
    "np.savetxt(angdispfname,surfangdisp,delimiter=',')\n",
    "\n",
    "tfname = f'{dye_advec_save_dir}/simtimes-{run_name}.csv'\n",
    "np.savetxt(tfname,t,delimiter=',')\n",
    "\n",
    "rfname = f'{dye_advec_save_dir}/radii-{run_name}.csv'\n",
    "np.savetxt(rfname,r,delimiter=',')"
   ]
  },
  {
   "cell_type": "markdown",
   "id": "803cdc3e-d2bf-4e55-9aec-26725fcf9224",
   "metadata": {},
   "source": [
    "### Plot azimuthal flow"
   ]
  },
  {
   "cell_type": "code",
   "execution_count": null,
   "id": "36fa4044-ad1d-4602-8650-09149f3f8e12",
   "metadata": {},
   "outputs": [],
   "source": [
    "tindex = -1\n",
    "\n",
    "flt.makedir('figures/exp-matching')\n",
    "fig, ax = plt.subplots()\n",
    "\n",
    "clim = np.array([0,umax])\n",
    "ps = ax.pcolormesh(rr, zz, uts[tindex,:,:],shading='auto',cmap='RdBu_r',vmin=clim)\n",
    "ps.set_edgecolor('face')\n",
    "plt.colorbar(ps,ax=ax,label='$\\\\tilde{u}_{\\\\theta}$')\n",
    "q=ax.quiver(rr[::1,::20],zz[::1,::20],urs[tindex,::1,::20],uzs[tindex,::1,::20])\n",
    "ax.quiverkey(q,X=0.8, Y=1.05, U=umerMG,\n",
    "             label='$||(\\\\tilde{u}_r,\\\\tilde{u}_z)|| =$'+f'{umerMG:.3f}', labelpos='E')\n",
    "ax.set(ylim=[0,1])\n",
    "ax.set_xlabel('$\\\\tilde{r}$')\n",
    "ax.set_ylabel('$\\\\tilde{z}$')\n",
    "ax.set_title('Flow field for '+run)\n",
    "\n",
    "ax.annotate('inner cylinder', xy=(0, -0.15),  xycoords='axes fraction', xytext=(30, -4), \n",
    "            textcoords='offset points', arrowprops=dict(arrowstyle=\"->\"), annotation_clip=False)\n",
    "ax.annotate('outer cylinder', xy=(1, -0.15),  xycoords='axes fraction', xytext=(-100, -4), \n",
    "            textcoords='offset points', arrowprops=dict(arrowstyle=\"->\"), annotation_clip=False)\n",
    "plt.tight_layout()\n",
    "plt.savefig(f'figures/exp-matching/flowfield-{run_name}.pdf')"
   ]
  },
  {
   "cell_type": "markdown",
   "id": "17b209e2-3b97-41d1-a016-3a1b5bb836e0",
   "metadata": {},
   "source": [
    "### Compare to experimental data"
   ]
  },
  {
   "cell_type": "code",
   "execution_count": null,
   "id": "fb2c7cbf-f8e1-4dab-906a-609369a2e7b0",
   "metadata": {},
   "outputs": [],
   "source": [
    "u_df = pd.read_csv('../experimental_processing/experimental_data/vel.csv')\n",
    "colors = np.loadtxt(\"../experimental_processing/colors.txt\",dtype=str,comments='%')\n",
    "Uscale = nondim_exp_param[nondim_exp_param['RUN']==run]['U, MHD (m/s)'].item()\n",
    "nd_u = u_df[run]/Uscale\n",
    "r_o = 0.0975\n",
    "nd_r = u_df['r (m)']/r_o\n",
    "ReC = nondim_exp_param[nondim_exp_param['RUN']==run]['ReC'].item()\n",
    "γ = nondim_exp_param[nondim_exp_param['RUN']==run]['γ'].item()\n",
    "χ = nondim_exp_param[nondim_exp_param['RUN']==run]['χ'].item()"
   ]
  },
  {
   "cell_type": "code",
   "execution_count": null,
   "id": "5f89ab65-ddca-44f1-b25d-a207310a33de",
   "metadata": {},
   "outputs": [],
   "source": [
    "fig, ax = plt.subplots()\n",
    "ax.scatter(nd_r,nd_u,label='experimental data',color=colors[i])\n",
    "\n",
    "ax.plot(rr[-1],np.abs(uts[tindex,-1,:]),color=colors[i],label='2D axisymmetric simulation')\n",
    "ax.plot(rr[-1],(1+χ)/2*1/rr[-1],linestyle='--',color='gray',label='$\\\\frac{1+\\\\chi}{2}\\\\frac{1}{\\\\tilde{r}}$')\n",
    "ax.plot(rr[-1,:],u2D(rr[-1,:],z=1,l=5,γ=γ,χ=χ),color=colors[i],linestyle='--',label='Low-Re (2D) theory')\n",
    "\n",
    "ax.set_xlim(χ,1)\n",
    "ax.set_ylim(0,)\n",
    "#t_over_tau = np.round(5*(frame_num+1)/np.shape(uts[:,-1,:])[0],1)\n",
    "ax.set_title(f'Nondimensionalized surface azimuthal velocity\\nvs. radius for {run} ($Re_L=${ReC:.2f}, $\\\\gamma=${γ:.2f}, $\\chi=${χ:.2f})')\n",
    "ax.set_xlabel('$\\\\tilde{r}$')\n",
    "ax.set_ylabel('$\\\\tilde{u}_\\\\theta (\\\\tilde{r},\\\\tilde{z}=1,\\\\tilde{t})$')\n",
    "ax.legend()\n",
    "ax.annotate('inner cylinder', xy=(0, -0.15),  xycoords='axes fraction', xytext=(30, -4), \n",
    "            textcoords='offset points', arrowprops=dict(arrowstyle=\"->\"), annotation_clip=False)\n",
    "ax.annotate('outer cylinder', xy=(1, -0.15),  xycoords='axes fraction', xytext=(-100, -4), \n",
    "            textcoords='offset points', arrowprops=dict(arrowstyle=\"->\"), annotation_clip=False)\n",
    "plt.tight_layout()\n",
    "plt.savefig(f'figures/exp-matching/{run_name}.pdf')\n",
    "plt.show()"
   ]
  },
  {
   "cell_type": "markdown",
   "id": "cd224355-9765-491f-8ff1-42d2885be9d2",
   "metadata": {
    "jp-MarkdownHeadingCollapsed": true,
    "tags": []
   },
   "source": [
    "# Compare to 2D solution"
   ]
  },
  {
   "cell_type": "code",
   "execution_count": null,
   "id": "2822ecf0-e58b-4c5b-b10e-75fc5e53abe4",
   "metadata": {},
   "outputs": [],
   "source": [
    "γ_arr = np.linspace(0.01,0.06,2)\n",
    "ReC = 0.1\n",
    "χ_arr = np.linspace(0.1,0.6,2) \n",
    "ReC_str = f'{ReC:.2f}'.replace('.','_')\n",
    "save_dir_SL = f'data/CentHSE/comparison/ReC{ReC_str}'"
   ]
  },
  {
   "cell_type": "markdown",
   "id": "297d4569-99ba-4f20-bb27-e7047527e567",
   "metadata": {
    "tags": []
   },
   "source": [
    "## Simulate"
   ]
  },
  {
   "cell_type": "code",
   "execution_count": null,
   "id": "dc231e76-15ed-4939-a2bf-52271fe9bf6d",
   "metadata": {
    "tags": []
   },
   "outputs": [],
   "source": [
    "%%time\n",
    "%%capture\n",
    "for j in np.arange(len(χ_arr)):\n",
    "    χ = χ_arr[j]\n",
    "    χ_str = f'{χ:.2f}'.replace('.','_')\n",
    "    for i in np.arange(len(γ_arr)):\n",
    "        γ = γ_arr[i]    \n",
    "        τ = (2/np.pi)**2*ReC\n",
    "        simtime = 2*5*τ\n",
    "        save_freq = 200\n",
    "        timestepper = 'SBDF2'\n",
    "        \n",
    "        γ_str = f'{γ:.2f}'.replace('.','_')\n",
    "        sim_name = f'mhd-2D-axisymmetric-VP-implicit-{timestepper}-ReC{ReC_str}-γ{γ_str}-χ{χ_str}'\n",
    "        print(sim_name)\n",
    "        \n",
    "        nz = 15#40\n",
    "        nr = 50#500 #1000\n",
    "        dt = 2.5e-4*simtime\n",
    "        \n",
    "        \n",
    "        ###############\n",
    "\n",
    "        MagnetoCouetteFlow(ReC,γ,χ,simtime,save_freq,dt,nz,nr,timestepper,save_dir_SL,Print=False)\n",
    "        "
   ]
  },
  {
   "cell_type": "code",
   "execution_count": null,
   "id": "dc408ce8-802f-4e8a-84c7-6c03d65b96d0",
   "metadata": {
    "tags": []
   },
   "outputs": [],
   "source": [
    "# Get sorted list of directories containing data files\n",
    "analysis_dirs = sorted(glob.glob(f'{save_dir_SL}/analysis*VP*'))\n",
    "# Merge output files\n",
    "for analysis in analysis_dirs:\n",
    "    post.merge_analysis(analysis,cleanup=True)\n",
    "# Get list of HDF5 files\n",
    "files = [glob.glob(f'{analysis}/*.h5')[-1] for analysis in analysis_dirs]\n",
    "# Print task keys for data file\n",
    "flt.print_keys(files[0],group='tasks')"
   ]
  },
  {
   "cell_type": "markdown",
   "id": "d8373110-dd41-4b23-bf51-8e265548f20b",
   "metadata": {
    "tags": []
   },
   "source": [
    "## Plot against 2D solution"
   ]
  },
  {
   "cell_type": "code",
   "execution_count": null,
   "id": "dc92bb8d-85a6-4283-acc4-9144fa5524e5",
   "metadata": {},
   "outputs": [],
   "source": [
    "theme = 'DarkBeachColors'\n",
    "colorfname = glob.glob(f'../ColorMaps/**/{theme}*',recursive=True)[0]\n",
    "cmaphex = np.loadtxt(colorfname,dtype=str,delimiter=',',comments='%')\n",
    "cmap = get_continuous_cmap(cmaphex)"
   ]
  },
  {
   "cell_type": "code",
   "execution_count": null,
   "id": "90fe917c-ac9d-4119-ae21-6db00ced6a5f",
   "metadata": {},
   "outputs": [],
   "source": [
    "file=glob.glob(f'{save_dir_SL}/*/*-ReC{ReC_str}-γ{γ_str}-χ{χ_str}*.h5')[0]"
   ]
  },
  {
   "cell_type": "code",
   "execution_count": null,
   "id": "299efc1f-7f0e-4a48-8053-2c1994e8d4aa",
   "metadata": {},
   "outputs": [],
   "source": [
    "flt.makedir(f'figures/Comparisonto2D')\n",
    "l=2\n",
    "for j in np.arange(len(χ_arr)):\n",
    "    χ = χ_arr[j]\n",
    "    χ_str = f'{χ:.2f}'.replace('.','_')\n",
    "\n",
    "    fig, ax = plt.subplots(figsize=(7.25,4))\n",
    "\n",
    "    for i in np.arange(len(γ_arr)):\n",
    "        γ = γ_arr[i]\n",
    "        γ_str = f'{γ:.2f}'.replace('.','_')\n",
    "        file = glob.glob(f'{save_dir_SL}/*/*-ReC{ReC_str}-γ{γ_str}-χ{χ_str}*.h5')[0]\n",
    "        r, z, t = flt.load_data(file,'r/1.0','z/1.0','sim_time',group='scales')\n",
    "        zz, rr = np.meshgrid(z, r, indexing='ij')\n",
    "        uts, = flt.load_data(file, 'ut',group='tasks')\n",
    "\n",
    "        # Plot\n",
    "        ax.plot(rr[-1,:],uts[-1,-1,:],color=cmap(i/len(γ_arr)),label=f'$\\gamma=${γ:.2f}')\n",
    "        ax.plot(rr[-1,:],u2D(rr[-1,:],z=1,l=l,γ=γ,χ=χ),color=cmap(i/len(γ_arr)),linestyle='--')\n",
    "        \n",
    "    ax.plot(-1,-1,linestyle='--',color='gray',label=f'low-Re 2D\\ntheory ($l=${l})')\n",
    "    ax.set_xlim(χ,1)\n",
    "    ax.set_ylim(0,)\n",
    "    ax.set_title(f'Surface azimuthal velocity vs. radius, $Re_L=${ReC}, $\\chi=${χ:.2f}') #at $\\\\tilde{t}$='+str(t_over_tau)+'$\\\\tau$')\n",
    "    ax.set_xlabel('$\\\\tilde{r}$')\n",
    "    ax.set_ylabel('$\\\\tilde{u}_\\\\theta (\\\\tilde{r},\\\\tilde{z}=1,\\\\tilde{t})$')\n",
    "    ax.legend(bbox_to_anchor=(1.04,1), loc=\"upper left\")\n",
    "    ax.annotate('inner cylinder', xy=(0, -0.15),  xycoords='axes fraction', xytext=(30, -4), \n",
    "                textcoords='offset points', arrowprops=dict(arrowstyle=\"->\"), annotation_clip=False)\n",
    "    ax.annotate('outer cylinder', xy=(1, -0.15),  xycoords='axes fraction', xytext=(-100, -4), \n",
    "                textcoords='offset points', arrowprops=dict(arrowstyle=\"->\"), annotation_clip=False)\n",
    "    plt.tight_layout()\n",
    "    \n",
    "    plt.savefig(f'figures/Comparisonto2D/ReC{ReC_str}-χ{χ_str}.pdf')"
   ]
  }
 ],
 "metadata": {
  "kernelspec": {
   "display_name": "dedalus2",
   "language": "python",
   "name": "python3"
  },
  "language_info": {
   "codemirror_mode": {
    "name": "ipython",
    "version": 3
   },
   "file_extension": ".py",
   "mimetype": "text/x-python",
   "name": "python",
   "nbconvert_exporter": "python",
   "pygments_lexer": "ipython3",
   "version": "3.9.13"
  }
 },
 "nbformat": 4,
 "nbformat_minor": 5
}
