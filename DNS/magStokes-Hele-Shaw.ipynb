{
 "cells": [
  {
   "cell_type": "markdown",
   "id": "6d26edef-1314-45b0-9dfc-ce063394f31f",
   "metadata": {},
   "source": [
    "# MHD"
   ]
  },
  {
   "cell_type": "markdown",
   "id": "dc060064-7f7a-401e-88a2-cef99dae6ddc",
   "metadata": {},
   "source": [
    "Simulate axisymmetric mhd."
   ]
  },
  {
   "cell_type": "code",
   "execution_count": null,
   "id": "a0d033ce-179e-4db8-8f8d-e2ee2732ea45",
   "metadata": {},
   "outputs": [],
   "source": [
    "import dedalus.public as de\n",
    "import numpy as np\n",
    "import matplotlib.pyplot as plt\n",
    "from scipy.special import erf\n",
    "import file_tools as flt"
   ]
  },
  {
   "cell_type": "code",
   "execution_count": null,
   "id": "f9d62187-4138-4d2a-a3ef-e63ea6cb4327",
   "metadata": {},
   "outputs": [],
   "source": [
    "%env OMP_NUM_THREADS"
   ]
  },
  {
   "cell_type": "code",
   "execution_count": null,
   "id": "0f17e105-2bf0-4c0d-ac83-d8161dad37ad",
   "metadata": {},
   "outputs": [],
   "source": [
    "%env NUMEXPR_MAX_THREADS"
   ]
  },
  {
   "cell_type": "markdown",
   "id": "d1ebc9e7-6cac-4cbe-8917-2e2a0a676298",
   "metadata": {
    "tags": []
   },
   "source": [
    "# 2D $u_r, u_\\theta, u_z$ in $(r,\\theta)$"
   ]
  },
  {
   "cell_type": "code",
   "execution_count": null,
   "id": "b85bca7f-6788-453f-bae2-93c95c240fbe",
   "metadata": {},
   "outputs": [],
   "source": [
    "sim_name_base = 'cylinder_obstacle_tracer'\n",
    "save_dir = 'data/HeleShaw'\n",
    "save_freq = 200#200\n",
    "dt = 5e-5\n",
    "timestepper = 'RK443'"
   ]
  },
  {
   "cell_type": "code",
   "execution_count": null,
   "id": "eca3b800-48c2-4edf-b573-8c3ee1e8e1f0",
   "metadata": {},
   "outputs": [],
   "source": [
    "nr = 384\n",
    "nθ = 2*384\n",
    "χ = 0.2571428571428571 #0.428571 #0.257\n",
    "γ = 0.02249718785151856 #0.0225\n",
    "ReC = 0.09210263786404081 #0.1\n",
    "D = 0.24746906636670415#(1+χ)/8\n",
    "κ = 2e-3 # diffusivity of dye\n",
    "η = 1e-2 * np.min((ReC,1)) #1e-4 # damping timescale for volume penalty\n",
    "\n",
    "θbasis = de.Fourier('θ',nθ,interval=(0,2*np.pi))\n",
    "rbasis = de.Chebyshev('r',nr,interval=(χ,1))\n",
    "domain = de.Domain([θbasis,rbasis],grid_dtype=np.float64)\n",
    "θ, r = domain.grids()\n",
    "\n",
    "simtime = dt*400#1/np.pi"
   ]
  },
  {
   "cell_type": "code",
   "execution_count": null,
   "id": "10c055e8-4030-468e-b390-2af71dfc7cb7",
   "metadata": {},
   "outputs": [],
   "source": [
    "timescales_message = f'CFL number, dt/τ_CFL: {dt/((1-χ)/nr):.2E}, '\n",
    "timescales_message += f'dt/η: {dt/η:.2E}'\n",
    "print(timescales_message)"
   ]
  },
  {
   "cell_type": "code",
   "execution_count": null,
   "id": "84c2d192-e2b3-40c1-bb3c-15e828c91559",
   "metadata": {},
   "outputs": [],
   "source": [
    "sim_name = sim_name_base+'-χ='+str(np.round(χ,2)).replace('.','_')+'-γ='+str(np.round(γ,3)).replace('.','_')+'-ReC='+str(np.round(ReC,3)).replace('.','_')+'-D='+str(np.round(D,3)).replace('.','_')\n",
    "sim_name"
   ]
  },
  {
   "cell_type": "code",
   "execution_count": null,
   "id": "9eb8e88f-5111-488f-92d5-d0d17a247292",
   "metadata": {},
   "outputs": [],
   "source": [
    "x = r*np.cos(θ)\n",
    "y = r*np.sin(θ)\n",
    "x0 = (1+χ)/2\n",
    "y0 = 0\n",
    "r0 = ((x-x0)**2+(y-y0)**2)**(1/2)\n",
    "mask = lambda x: 0.5*(1+np.tanh(-2*x))\n",
    "ϵ = γ*(η/ReC)**(1/2)\n",
    "δ = 2.64822828*ϵ # sharpness of mask for obstacle\n",
    "K = domain.new_field() # mask\n",
    "K['g'] = mask((r0-D/2)/δ)\n",
    "\n",
    "fig, ax = plt.subplots()\n",
    "ax.pcolormesh(x,y,K['g'],shading='gouraud',cmap='Reds',vmin=0,vmax=1)\n",
    "ax.set(aspect=1)\n",
    "plt.show()"
   ]
  },
  {
   "cell_type": "code",
   "execution_count": null,
   "id": "7a285617-495a-432a-b5d0-38e116dd75b0",
   "metadata": {},
   "outputs": [],
   "source": [
    "problem = de.IVP(domain,variables=['p','ur','urr','uθ','uθr','c','cr'])\n",
    "\n",
    "problem.parameters['χ'] = χ\n",
    "problem.parameters['γ'] = γ\n",
    "problem.parameters['ReC'] = ReC\n",
    "problem.parameters['κ'] = κ\n",
    "problem.parameters['η'] = η\n",
    "problem.parameters['K'] = K\n",
    "problem.parameters['δ'] = δ\n",
    "problem.parameters['I'] = 1\n",
    "\n",
    "problem.substitutions['l'] = 'log(1-K+δ)'\n",
    "problem.substitutions['q'] = 'uθr - dθ(ur)/r + uθ/r'\n",
    "\n",
    "problem.add_equation(\"ur + dθ(uθ) + r*dr(ur) = 0\")\n",
    "problem.add_equation(\"dr(ur) - urr = 0\")\n",
    "problem.add_equation(\"dr(uθ) - uθr = 0\")\n",
    "problem.add_equation(\"dr(c) - cr = 0\")\n",
    "problem.add_equation(\"r**2*dt(uθ) + r*(1 + χ)*dθ(p) - 1/ReC*γ**2*(dθ(dθ(uθ) + 2*ur) + r*dr(r*uθr)) + 1/ReC*(2*r**2 + γ**2)*uθ = (1 + χ)*r*(-uθ*ur - uθ*dθ(uθ) - r*ur*uθr + I/ReC) - r**2*(K*uθ)/η\")\n",
    "problem.add_equation(\"r**2*(dt(ur) + (1 + χ)*dr(p)) - 1/ReC*γ**2*(dθ(dθ(ur) - 2*uθ) + r*dr(r*urr)) + 1/ReC*(2*r**2 + γ**2)*ur = (1 + χ)*r*(uθ**2 - uθ*dθ(ur) - r*ur*urr) - r**2*(K*ur)/η\")\n",
    "problem.add_equation(\"r**2*(dt(c) - κ*(dθ(dθ(c)) + r*dr(r*cr))) = -r*uθ*dθ(c)-r**2*ur*cr + dθ(l)*(r*c*uθ-κ*dθ(c)) + r**2*dr(l)*(c*ur-κ*cr)\")\n",
    "\n",
    "problem.add_equation('left(uθ) = 0')\n",
    "problem.add_equation('left(ur) = 0')\n",
    "problem.add_equation('right(uθ) = 0')\n",
    "problem.add_equation('right(ur) = 0',condition='nθ!=0')\n",
    "problem.add_equation('right(p) = 0',condition='nθ==0')\n",
    "problem.add_equation('right(urr) = 0')\n",
    "problem.add_equation('left(cr) = 0')\n",
    "problem.add_equation('right(cr) = 0')\n",
    "\n",
    "\n",
    "solver = problem.build_solver(getattr(de.timesteppers, timestepper))"
   ]
  },
  {
   "cell_type": "code",
   "execution_count": null,
   "id": "49045277-db18-4e26-bf45-1c63f714c616",
   "metadata": {},
   "outputs": [],
   "source": [
    "p, ur, urr, uθ, uθr,c,cr = [solver.state[_] for _ in problem.variables]\n",
    "#impulse_func.original_args = impulse_func.args = [solver]\n",
    "\n",
    "flt.makedir(save_dir)\n",
    "analysis = solver.evaluator.add_file_handler(f'{save_dir}/analysis-{sim_name}',iter=save_freq)\n",
    "for f in problem.variables + ['q']: analysis.add_task(f)"
   ]
  },
  {
   "cell_type": "code",
   "execution_count": null,
   "id": "8dff01f0-e657-45e3-addf-84f7a755030a",
   "metadata": {},
   "outputs": [],
   "source": [
    "# Specify initial dye pattern\n",
    "bump = lambda x: np.piecewise(x, [np.abs(x)<1, np.abs(x)>=1], \n",
    "                              [lambda x: np.exp(1)*np.exp(-1 / (1 - x**2)), lambda x: 0])\n",
    "streak = lambda x, x0: bump((x-x0)/streak_half_width)\n",
    "# streak = lambda x, x0: mask((x-x0-streak_half_width )/δ)*mask(-(x-x0+streak_half_width)/δ)\n",
    "\n",
    "dye_comments ='zonal streaks'\n",
    "\n",
    "if dye_comments == 'radial streaks':\n",
    "    streak_half_width = 7*(2*np.pi/nθ)\n",
    "    dye_pattern = lambda θ : sum(streak(θ,θi) for θi in (np.linspace(0,2*np.pi,8)+0.17)) * (1- mask((r0-D/2)/δ))\n",
    "    pattern_domain = θ\n",
    "if dye_comments == 'zonal streaks':\n",
    "    streak_half_width = 7*((1-χ)/nr)\n",
    "    streaks_per_obst = 4\n",
    "    spacing = np.max((D/(streaks_per_obst-1),3/2*streak_half_width))\n",
    "    dye_pattern = lambda r : sum(streak(r,ri) for ri in ((1-χ)/2*np.linspace(-1,1,int((1-χ)/spacing ))+(1+χ)/2)) * (1- mask((r0-D/2)/δ))\n",
    "    pattern_domain = r\n",
    "\n",
    "c['g'] = dye_pattern(pattern_domain)\n",
    "cr['g'] = c.differentiate('r')['g']"
   ]
  },
  {
   "cell_type": "code",
   "execution_count": null,
   "id": "360014d9-af1d-4d38-be5d-ceb2daeff363",
   "metadata": {},
   "outputs": [],
   "source": [
    "theta_cyl = np.linspace(0,2*np.pi,100)\n",
    "x_cyl_o, y_cyl_o = np.cos(theta_cyl),np.sin(theta_cyl)\n",
    "x_cyl_i,y_cyl_i = χ*np.cos(theta_cyl),χ*np.sin(theta_cyl)\n",
    "x_obs, y_obs = D/2*np.cos(theta_cyl)+(χ+1)/2,D/2*np.sin(theta_cyl)\n",
    "\n",
    "fig, ax = plt.subplots(1,2,figsize=(10,5))\n",
    "ax[0].pcolormesh(x,y,c['g'],shading='gouraud',cmap='Blues',vmin=[0,1])\n",
    "ax[0].contour(x,y,K['g'],[0.5],colors='r',linewidths=1)\n",
    "ax[0].plot(x_obs, y_obs,color='k')\n",
    "ax[0].set(aspect=1)\n",
    "\n",
    "#ax[1].plot(np.linspace(0,2*np.pi,10000),streak(np.linspace(0,2*np.pi,10000),np.pi))\n",
    "#ax[1].scatter(np.linspace(0,2*np.pi,nθ),streak(np.linspace(0,2*np.pi,nθ),np.pi),color='r')\n",
    "ax[1].scatter(r[0,:],c['g'][int(nθ/2),:])\n",
    "#ax[1].set_ylim(0,1.5)\n",
    "#ax[1].set_xlim(0.75*np.pi,1.25*np.pi)"
   ]
  },
  {
   "cell_type": "code",
   "execution_count": null,
   "id": "855a8c1b-68cc-443a-9bba-0f4fa4d254ed",
   "metadata": {},
   "outputs": [],
   "source": [
    "%%time\n",
    "while solver.sim_time <= simtime:\n",
    "    solver.step(dt)\n",
    "    if solver.iteration % 100 == 0: \n",
    "        print(f'it {solver.iteration}',\n",
    "              f't {solver.sim_time:.3f}',\n",
    "              f'|uθ| max {np.abs(uθ[\"g\"]).max():.3f}')\n",
    "        if np.any(np.isnan(uθ['g'])): \n",
    "            print('Broken')\n",
    "            break"
   ]
  },
  {
   "cell_type": "markdown",
   "id": "ba83e2fc-3614-4c66-bfba-f909d5a2d432",
   "metadata": {},
   "source": [
    "## Analysis"
   ]
  },
  {
   "cell_type": "code",
   "execution_count": null,
   "id": "00771735-7568-4e67-8915-6b2453f66cbb",
   "metadata": {},
   "outputs": [],
   "source": [
    "import glob\n",
    "from dedalus.tools import post"
   ]
  },
  {
   "cell_type": "code",
   "execution_count": null,
   "id": "8e5da0de-d531-460f-af50-ed52759f6c22",
   "metadata": {},
   "outputs": [],
   "source": [
    "file_dir = f'{save_dir}/analysis-{sim_name}'\n",
    "post.merge_analysis(file_dir,cleanup=False)\n",
    "save_file = sorted(glob.glob(f'{file_dir}/*.h5'))[0]"
   ]
  },
  {
   "cell_type": "code",
   "execution_count": null,
   "id": "4c7f0328-750d-417d-bb4e-c73fb072c6ec",
   "metadata": {},
   "outputs": [],
   "source": [
    "data = {}"
   ]
  },
  {
   "cell_type": "code",
   "execution_count": null,
   "id": "723e7ab4-5160-4aee-bb22-9ecb2f55f40d",
   "metadata": {},
   "outputs": [],
   "source": [
    "data['t'],data['r'],data['θ'] = flt.load_data(save_file,'sim_time','r/1.0','θ/1.0',group='scales')\n",
    "for key in flt.get_keys(save_file,group='tasks'):\n",
    "    data[key], = flt.load_data(save_file,key,group='tasks')"
   ]
  },
  {
   "cell_type": "code",
   "execution_count": null,
   "id": "99ab1c2a-b3b1-4dba-be28-dd210a3960b8",
   "metadata": {},
   "outputs": [],
   "source": [
    "data['x'], data['y'] = data['r'][None,:]*np.cos(data['θ'][:,None]), data['r'][None,:]*np.sin(data['θ'][:,None])"
   ]
  },
  {
   "cell_type": "code",
   "execution_count": null,
   "id": "13dff144-039e-4100-8463-289461ebcf24",
   "metadata": {},
   "outputs": [],
   "source": [
    "data['c'][0]"
   ]
  },
  {
   "cell_type": "code",
   "execution_count": null,
   "id": "b518e369-1d37-45f4-854c-e03243a882be",
   "metadata": {},
   "outputs": [],
   "source": [
    "fig, ax = plt.subplots()\n",
    "ax.pcolormesh(data['x'], data['y'], \n",
    "               data['c'][-1],\n",
    "               shading='gouraud',cmap='Blues',vmin=[0,0.3])\n",
    "#ax.contour(data['x'], data['y'],K['g'],[.5],colors='k')\n",
    "ax.set(aspect=1)"
   ]
  },
  {
   "cell_type": "code",
   "execution_count": null,
   "id": "49fd3290-5315-4682-bb01-d4cb643ba7d2",
   "metadata": {},
   "outputs": [],
   "source": [
    "fig, ax = plt.subplots()\n",
    "ax.pcolormesh(data['x'], data['y'], \n",
    "               data['q'][-1],\n",
    "               shading='gouraud',cmap='PuOr_r',vmin=[-1,1])\n",
    "#ax.contour(data['x'], data['y'],K['g'],[.5],colors='k')\n",
    "ax.set(aspect=1)"
   ]
  },
  {
   "cell_type": "code",
   "execution_count": null,
   "id": "15941eab-ad6d-4fc1-8e5a-802f1cbbe7f7",
   "metadata": {},
   "outputs": [],
   "source": [
    "data['t']"
   ]
  },
  {
   "cell_type": "code",
   "execution_count": null,
   "id": "d929ba64-485f-49a7-9dc8-fcdbb8fdab0f",
   "metadata": {},
   "outputs": [],
   "source": []
  }
 ],
 "metadata": {
  "kernelspec": {
   "display_name": "dedalus2",
   "language": "python",
   "name": "dedalus2"
  },
  "language_info": {
   "codemirror_mode": {
    "name": "ipython",
    "version": 3
   },
   "file_extension": ".py",
   "mimetype": "text/x-python",
   "name": "python",
   "nbconvert_exporter": "python",
   "pygments_lexer": "ipython3",
   "version": "3.9.13"
  }
 },
 "nbformat": 4,
 "nbformat_minor": 5
}
